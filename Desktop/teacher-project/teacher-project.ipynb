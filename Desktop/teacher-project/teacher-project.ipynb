# Учебный проект "Обучение с учителем"
**https://github.com/yulianna-k/teacher-project**  
[GitHub: teacher-project](https://github.com/yulianna-k/teacher-project)
